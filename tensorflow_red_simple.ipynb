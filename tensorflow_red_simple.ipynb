{
 "cells": [
  {
   "cell_type": "markdown",
   "metadata": {},
   "source": [
    "<img src=\"imagenes/rn3.png\" width=\"200\">\n",
    "<img src=\"http://www.identidadbuho.uson.mx/assets/letragrama-rgb-150.jpg\" width=\"200\">"
   ]
  },
  {
   "cell_type": "markdown",
   "metadata": {
    "collapsed": true
   },
   "source": [
    "# [Curso de Redes Neuronales](https://curso-redes-neuronales-unison.github.io/Temario/)\n",
    "\n",
    "# Una red neuronal multicapa simple usando TensorFlow\n",
    "\n",
    "\n",
    "[**Julio Waissman Vilanova**](http://mat.uson.mx/~juliowaissman/), 27 de septiembre de 2017.\n",
    "\n",
    "\n",
    "\n",
    "En esta libreta se muestra el ejemplo básico para una red multicapa sencilla\n",
    "aplicada al conjunto de datos [MNIST](http://yann.lecun.com/exdb/mnist/).\n",
    "\n",
    "Esta libreta es básicamente una traducción del ejemplo\n",
    "desarrollado por [Aymeric Damien](https://github.com/aymericdamien/TensorFlow-Examples/)\n"
   ]
  },
  {
   "cell_type": "code",
   "execution_count": 3,
   "metadata": {},
   "outputs": [],
   "source": [
    "import tensorflow as tf"
   ]
  },
  {
   "cell_type": "markdown",
   "metadata": {},
   "source": [
    "## 1. Cargar datos\n",
    "\n",
    "Primero cargamos los archivos que se utilizan para el aprendizaje. Para otro tipo de problemas, es necesario hacer un proceso conocido como *Data Wrangling*, que normalmente se realiza con la ayuda de *Pandas*. "
   ]
  },
  {
   "cell_type": "code",
   "execution_count": 4,
   "metadata": {},
   "outputs": [
    {
     "name": "stdout",
     "output_type": "stream",
     "text": [
      "WARNING:tensorflow:From <ipython-input-4-c3d55fec490c>:2: read_data_sets (from tensorflow.contrib.learn.python.learn.datasets.mnist) is deprecated and will be removed in a future version.\n",
      "Instructions for updating:\n",
      "Please use alternatives such as official/mnist/dataset.py from tensorflow/models.\n",
      "WARNING:tensorflow:From /home/victor/anaconda3/envs/tensorflow/lib/python3.7/site-packages/tensorflow/contrib/learn/python/learn/datasets/mnist.py:260: maybe_download (from tensorflow.contrib.learn.python.learn.datasets.base) is deprecated and will be removed in a future version.\n",
      "Instructions for updating:\n",
      "Please write your own downloading logic.\n",
      "WARNING:tensorflow:From /home/victor/anaconda3/envs/tensorflow/lib/python3.7/site-packages/tensorflow/contrib/learn/python/learn/datasets/base.py:252: _internal_retry.<locals>.wrap.<locals>.wrapped_fn (from tensorflow.contrib.learn.python.learn.datasets.base) is deprecated and will be removed in a future version.\n",
      "Instructions for updating:\n",
      "Please use urllib or similar directly.\n",
      "Successfully downloaded train-images-idx3-ubyte.gz 9912422 bytes.\n",
      "WARNING:tensorflow:From /home/victor/anaconda3/envs/tensorflow/lib/python3.7/site-packages/tensorflow/contrib/learn/python/learn/datasets/mnist.py:262: extract_images (from tensorflow.contrib.learn.python.learn.datasets.mnist) is deprecated and will be removed in a future version.\n",
      "Instructions for updating:\n",
      "Please use tf.data to implement this functionality.\n",
      "Extracting /tmp/data/train-images-idx3-ubyte.gz\n",
      "Successfully downloaded train-labels-idx1-ubyte.gz 28881 bytes.\n",
      "WARNING:tensorflow:From /home/victor/anaconda3/envs/tensorflow/lib/python3.7/site-packages/tensorflow/contrib/learn/python/learn/datasets/mnist.py:267: extract_labels (from tensorflow.contrib.learn.python.learn.datasets.mnist) is deprecated and will be removed in a future version.\n",
      "Instructions for updating:\n",
      "Please use tf.data to implement this functionality.\n",
      "Extracting /tmp/data/train-labels-idx1-ubyte.gz\n",
      "WARNING:tensorflow:From /home/victor/anaconda3/envs/tensorflow/lib/python3.7/site-packages/tensorflow/contrib/learn/python/learn/datasets/mnist.py:110: dense_to_one_hot (from tensorflow.contrib.learn.python.learn.datasets.mnist) is deprecated and will be removed in a future version.\n",
      "Instructions for updating:\n",
      "Please use tf.one_hot on tensors.\n",
      "Successfully downloaded t10k-images-idx3-ubyte.gz 1648877 bytes.\n",
      "Extracting /tmp/data/t10k-images-idx3-ubyte.gz\n",
      "Successfully downloaded t10k-labels-idx1-ubyte.gz 4542 bytes.\n",
      "Extracting /tmp/data/t10k-labels-idx1-ubyte.gz\n",
      "WARNING:tensorflow:From /home/victor/anaconda3/envs/tensorflow/lib/python3.7/site-packages/tensorflow/contrib/learn/python/learn/datasets/mnist.py:290: DataSet.__init__ (from tensorflow.contrib.learn.python.learn.datasets.mnist) is deprecated and will be removed in a future version.\n",
      "Instructions for updating:\n",
      "Please use alternatives such as official/mnist/dataset.py from tensorflow/models.\n"
     ]
    }
   ],
   "source": [
    "from tensorflow.examples.tutorials.mnist import input_data\n",
    "mnist = input_data.read_data_sets(\"/tmp/data/\", one_hot=True)"
   ]
  },
  {
   "cell_type": "markdown",
   "metadata": {},
   "source": [
    "Para que un aprendizaje tenga sentido es necesario tener bien separado un conjunto de datos de aprendizaje y otro de prueba (en caso de grandes conjuntos de datos es la opción). Como vemos tanto las imágenes como las etiquetas están separados en archivos de datos y de aprendizaje.\n",
    "\n",
    "El objeto `mnist` es un objeto tensorflow que contiene 3 objetos tipo tensorflow: *test*, *train* y *validation*, los cuales a su vez contienen *ndarrays* de *numpy*. La estructura es la misma para cada conjunto de datos. Veamos su estructura:\n"
   ]
  },
  {
   "cell_type": "code",
   "execution_count": 5,
   "metadata": {},
   "outputs": [
    {
     "name": "stdout",
     "output_type": "stream",
     "text": [
      "Tipo de images: <class 'numpy.ndarray'>\n",
      "Tipo de epochs_completed: <class 'int'>\n",
      "Tipo de labels: <class 'numpy.ndarray'>\n",
      "Tipo de nest_batch: <class 'method'>\n",
      "Tipo de num_examples: <class 'int'>\n"
     ]
    }
   ],
   "source": [
    "print(\"Tipo de images: {}\".format(type(mnist.train.images)))\n",
    "print(\"Tipo de epochs_completed: {}\".format(type(mnist.train.epochs_completed)))\n",
    "print(\"Tipo de labels: {}\".format(type(mnist.train.labels)))\n",
    "print(\"Tipo de nest_batch: {}\".format(type(mnist.train.next_batch)))\n",
    "print(\"Tipo de num_examples: {}\".format(type(mnist.train.num_examples)))"
   ]
  },
  {
   "cell_type": "markdown",
   "metadata": {},
   "source": [
    "Como generar el conjunto de datos para ser utilizado dentro de TensorFlow es objeto de otra libreta. Por el momento concentremonos en como hacer una red neuronal rápido y sin dolor.\n",
    "\n",
    "Sin embargo, vamos a ver unos cuantos datos que nos pueden ser de útilidad para la construcción de la red neuronal."
   ]
  },
  {
   "cell_type": "code",
   "execution_count": 6,
   "metadata": {},
   "outputs": [
    {
     "name": "stdout",
     "output_type": "stream",
     "text": [
      "Forma del ndarray con las imágenes: (55000, 784)\n",
      "Forma del ndarray con las etiquetas: (55000, 10)\n",
      "-------------------------------------------------------------------------------\n",
      "Número de imagenes de entrenamiento: 55000\n",
      "Tamaño de las imagenes: 784\n",
      "Clases diferentes: 10\n"
     ]
    }
   ],
   "source": [
    "print(\"Forma del ndarray con las imágenes: {}\".format(mnist.train.images.shape))\n",
    "print(\"Forma del ndarray con las etiquetas: {}\".format(mnist.train.labels.shape))\n",
    "print(\"-\" * 79)\n",
    "print(\"Número de imagenes de entrenamiento: {}\".format(mnist.train.images.shape[0]))\n",
    "print(\"Tamaño de las imagenes: {}\".format(mnist.train.images.shape[1]))\n",
    "print(\"Clases diferentes: {}\".format(mnist.train.labels.shape[1]))\n"
   ]
  },
  {
   "cell_type": "markdown",
   "metadata": {},
   "source": [
    "## 2. Construcción de la red neuronal"
   ]
  },
  {
   "cell_type": "markdown",
   "metadata": {},
   "source": [
    "Para hacer una red neuronal lo más genérica posible y que pdamos reutilizar en otros proyectos, vamos a establecer los parámetros base independientemente de la inicialización de la red, independientemente de la forma en que construimos la red. \n",
    "\n",
    "Comencemos por establecer una función genérica que nos forme una red neuronal con dos capas ocultas. No agrego más comentarios porque, con la experiencia de las libretas anteriores, la construcción de la red neuronal se explica sola."
   ]
  },
  {
   "cell_type": "code",
   "execution_count": 7,
   "metadata": {},
   "outputs": [],
   "source": [
    "def red_neuronal_dos_capas_ocultas(x, pesos, sesgos):\n",
    "    \"\"\"\n",
    "    Genera una red neuronal de dos capas para usar en TensorFlow\n",
    "    \n",
    "    Parámetros\n",
    "    ----------\n",
    "    pesos: un diccionario con tres etiquetas: 'h1', 'h2' y 'ho'\n",
    "           en donde cada una es una tf.Variable conteniendo una \n",
    "           matriz de dimensión [num_neuronas_capa_anterior, num_neuronas_capa]\n",
    "                  \n",
    "    sesgos: un diccionario con tres etiquetas: 'b1', 'b2' y 'bo'\n",
    "            en donde cada una es una tf.Variable conteniendo un\n",
    "            vector de dimensión [numero_de_neuronas_capa]\n",
    "                   \n",
    "    Devuelve\n",
    "    --------\n",
    "    Un ops de tensorflow que calcula la salida de una red neuronal\n",
    "    con dos capas ocultas, y activaciones RELU.\n",
    "    \n",
    "    \"\"\"\n",
    "    # Primera capa oculta con activación ReLU\n",
    "    capa_1 = tf.matmul(x, pesos['h1'])\n",
    "    capa_1 = tf.add(capa_1, sesgos['b1'])\n",
    "    capa_1 = tf.nn.relu(capa_1)\n",
    "    \n",
    "    # Segunda capa oculta con activación ReLU\n",
    "    capa_2 = tf.matmul(capa_1, pesos['h2'])\n",
    "    capa_2 = tf.add(capa_2, sesgos['b2'])\n",
    "    capa_2 = tf.nn.relu(capa_2)\n",
    "    \n",
    "    # Capa de salida con activación lineal\n",
    "    # En Tensorflow la salida es siempre lineal, y luego se especifica\n",
    "    # la función de salida a la hora de calcularla como vamos a ver \n",
    "    # más adelante\n",
    "    capa_salida = tf.matmul(capa_2, pesos['ho']) + sesgos['bo']\n",
    "    return capa_salida"
   ]
  },
  {
   "cell_type": "markdown",
   "metadata": {},
   "source": [
    "Y ahora necesitamos poder generar los datos de entrada a la red neuronal de\n",
    "alguna manera posible. Afortunadamente sabemos exactamente que necesitaos, así\n",
    "que vamos a hacer una función que nos genere las variables de peso y sesgo.\n",
    "\n",
    "Por el momento, y muy a la brava, solo vamos a generarlas con números aletorios con una \n",
    "distribución $\\mathcal{N}(0, 1)$."
   ]
  },
  {
   "cell_type": "code",
   "execution_count": 8,
   "metadata": {},
   "outputs": [],
   "source": [
    "def inicializa_pesos(entradas, n1, n2, salidas):\n",
    "    \"\"\"\n",
    "    Genera un diccionario con pesos  \n",
    "    para ser utilizado en la función red_neuronal_dos_capas_ocultas\n",
    "    \n",
    "    Parámetros\n",
    "    ----------\n",
    "    entradas: Número de neuronas en la capa de entrada\n",
    "    \n",
    "    n1: Número de neuronas en la primer capa oculta\n",
    "    \n",
    "    n2: Número de neuronas en la segunda capa oculta\n",
    "    \n",
    "    salidas: Número de neuronas de salida\n",
    "    \n",
    "    Devuelve\n",
    "    --------\n",
    "    Dos diccionarios, uno con los pesos por capa y otro con los sesgos por capa\n",
    "    \n",
    "    \"\"\"\n",
    "    pesos = {\n",
    "        'h1': tf.Variable(tf.random_normal([entradas, n1])),\n",
    "        'h2': tf.Variable(tf.random_normal([n1, n2])),\n",
    "        'ho': tf.Variable(tf.random_normal([n2, salidas]))\n",
    "    }\n",
    "    \n",
    "    sesgos = {\n",
    "        'b1': tf.Variable(tf.random_normal([n1])),\n",
    "        'b2': tf.Variable(tf.random_normal([n2])),\n",
    "        'bo': tf.Variable(tf.random_normal([salidas]))\n",
    "    }\n",
    "    \n",
    "    return pesos, sesgos"
   ]
  },
  {
   "cell_type": "markdown",
   "metadata": {},
   "source": [
    "Ahora necesitamos establecer los parámetros de la topología de la red neuronal. \n",
    "Tomemos en cuenta que estos prámetros los podríamos haber establecido desde\n",
    "la primer celda, si el fin es estar variando los parámetros para escoger los que \n",
    "ofrezcan mejor desempeño."
   ]
  },
  {
   "cell_type": "code",
   "execution_count": 9,
   "metadata": {},
   "outputs": [],
   "source": [
    "num_entradas = 784  #  Lo sabemos por la inspección que hicimos a mnist\n",
    "num_salidas = 10    # Ídem\n",
    "\n",
    "# Aqui es donde podemos jugar\n",
    "num_neuronas_capa_1 = 256\n",
    "num_neuronas_capa_2 = 256"
   ]
  },
  {
   "cell_type": "markdown",
   "metadata": {},
   "source": [
    "¡A construir la red! Para esto vamos a necesitar crear las entradas\n",
    "con un placeholder, y crear nuestra topología de red neuronal.\n",
    "\n",
    "Observa que la dimensión de x será [None, num_entradas], lo que significa que \n",
    "la cantidad de renglones es desconocida (o variable)."
   ]
  },
  {
   "cell_type": "code",
   "execution_count": 10,
   "metadata": {},
   "outputs": [
    {
     "name": "stdout",
     "output_type": "stream",
     "text": [
      "WARNING:tensorflow:From /home/victor/anaconda3/envs/tensorflow/lib/python3.7/site-packages/tensorflow/python/framework/op_def_library.py:263: colocate_with (from tensorflow.python.framework.ops) is deprecated and will be removed in a future version.\n",
      "Instructions for updating:\n",
      "Colocations handled automatically by placer.\n"
     ]
    }
   ],
   "source": [
    "# La entrada a la red neuronal\n",
    "x = tf.placeholder(\"float\", [None, num_entradas])\n",
    "\n",
    "# Los pesos y los sesgos\n",
    "w, b = inicializa_pesos(num_entradas, num_neuronas_capa_1, num_neuronas_capa_2, num_salidas)\n",
    "\n",
    "# Crea la red neuronal\n",
    "estimado = red_neuronal_dos_capas_ocultas(x, w, b)\n"
   ]
  },
  {
   "cell_type": "markdown",
   "metadata": {},
   "source": [
    "Parecería que ya está todo listo. Sin ambargo falta algo muy importante: No hemos explicado\n",
    "ni cual es el criterio de error (loss) que vamos a utilizar, ni cual va a ser el método de\n",
    "optimización (aprendizaje) que hemos decidido aplicar.\n",
    "\n",
    "Primero definamos el costo que queremos minimizar, y ese costo va a estar en función de lo\n",
    "estimado con lo real, por lo que necesitamos otra entrada de datos para los datos de salida.\n",
    "\n",
    "Sin ningun lugar a dudas, el costo que mejor describe este problema es el de *softmax*\n"
   ]
  },
  {
   "cell_type": "code",
   "execution_count": 11,
   "metadata": {},
   "outputs": [],
   "source": [
    "#  Creamos la variable de datos de salida conocidos\n",
    "y = tf.placeholder(\"float\", [None, num_salidas])\n",
    "\n",
    "#  Definimos la función de costo\n",
    "# softmax con crossentropy con logits esta por ser obsoleto: actualizar a la v2\n",
    "costo = tf.reduce_mean(tf.nn.softmax_cross_entropy_with_logits_v2(logits=estimado, labels=y))"
   ]
  },
  {
   "cell_type": "markdown",
   "metadata": {},
   "source": [
    "Y ahora definimos que función de aprendizaje vamos a utilizar. Existen muchas funciones\n",
    "de aprendizaje en tensorflow, las cuales se pueden consultar en `tf.train.`. Entre las\n",
    "existentes podemos ver algunas conocidas del curso como descenso de gradiente simple,\n",
    "momento, rprop, rmsprop entre otras. Casi todas las funciones de optimización (aprendizaje)\n",
    "acaban su nombre con `Optimize`.\n",
    "\n",
    "En este caso vamos a usar un método comocido como el *algoritmo de Adam* el cual \n",
    "se puede consultar [aqui](http://arxiv.org/pdf/1412.6980.pdf). El metodo utiliza dos calculos\n",
    "de momentos diferentes, y por lo visto genera resultados muy interesantes desde el punto \n",
    "de vista práctico.\n",
    "\n",
    "¿Cual es el mejor método? Pues esto es en función de tu problema y de la cantidad de datos que tengas.\n",
    "Lo mejor es practicar con varios métodos para entender sus ventajas y desventajas.\n",
    "\n",
    "En todo caso el método de optimización requiere que se le inicialice con una tasa de aprendizaje."
   ]
  },
  {
   "cell_type": "code",
   "execution_count": 12,
   "metadata": {},
   "outputs": [],
   "source": [
    "alfa = 0.001\n",
    "optimizador = tf.train.AdamOptimizer(learning_rate=alfa)\n",
    "paso_entrenamiento = optimizador.minimize(costo)\n"
   ]
  },
  {
   "cell_type": "markdown",
   "metadata": {},
   "source": [
    "## 3. Ejecutar la sesión usando mini-batches\n",
    "\n",
    "Ahora, ya que la red neuronal está lista vamos a ejecutar la red utilizando el algoritmo de\n",
    "Adam pero en forma de mini-batches. Con el fin de tener control sobre el problema, vamos a establecer un número máximo de epoch (ciclos de aprendizaje), el tamaño de los mini-batches, y cada cuandos epoch \n",
    "quisieramos ver como está evolucionando la red neuronal.\n",
    "\n",
    "Como entrenar una red neuronal no tiene sentido, si no es porque la queremos usar para reconocer,\n",
    "no tendría sentido entrenarla y luego perderla y tener que reentrenar en cada ocasión. Recuerda que cuando\n",
    "se cierra la sesión se borra todo lo que se tenía en memoria. \n",
    "\n",
    "Para esto vamos a usar una ops especial llamada `Saver`, que permite guardar en un archivo la red neuronal y \n",
    "después utilizarla en otra sesión (en otro script, computadora, ....).\n"
   ]
  },
  {
   "cell_type": "code",
   "execution_count": 13,
   "metadata": {},
   "outputs": [],
   "source": [
    "archivo_modelo = \"rnn2.ckpt\"\n",
    "saver = tf.train.Saver()"
   ]
  },
  {
   "cell_type": "markdown",
   "metadata": {},
   "source": [
    "Como todo se ejecuta dentro de una sesión, no es posible hacerlo por partes (si usamos el \n",
    "`with` que debería ser la única forma en la que iniciaramos una sesión). Por lo tanto procuraré dejar comentado el código."
   ]
  },
  {
   "cell_type": "code",
   "execution_count": 14,
   "metadata": {},
   "outputs": [
    {
     "name": "stdout",
     "output_type": "stream",
     "text": [
      "Epoch: 0            Costo: 191.18521693489762\n",
      "Epoch: 1            Costo: 43.71823168321089\n",
      "Epoch: 2            Costo: 26.89267680254849\n",
      "Epoch: 3            Costo: 18.644550804443778\n",
      "Epoch: 4            Costo: 13.412553062162813\n",
      "Epoch: 5            Costo: 9.914526332187547\n",
      "Epoch: 6            Costo: 7.315131008469698\n",
      "Epoch: 7            Costo: 5.454284337533445\n",
      "Epoch: 8            Costo: 4.0039133195275065\n",
      "Epoch: 9            Costo: 3.00410714654874\n",
      "Epoch: 10           Costo: 2.2139289501789805\n",
      "Epoch: 11           Costo: 1.6914308566438865\n",
      "Epoch: 12           Costo: 1.220751516974679\n",
      "Epoch: 13           Costo: 0.961380459997427\n",
      "Epoch: 14           Costo: 0.7873306533359897\n",
      "Epoch: 15           Costo: 0.6912819738954676\n",
      "Epoch: 16           Costo: 0.5229584433662885\n",
      "Epoch: 17           Costo: 0.6364421827525495\n",
      "Epoch: 18           Costo: 0.3839469246409922\n",
      "Epoch: 19           Costo: 0.4402724905136021\n",
      "Epoch: 20           Costo: 0.38588204460730374\n",
      "Epoch: 21           Costo: 0.3756406374220639\n",
      "Epoch: 22           Costo: 0.4515243436717135\n",
      "Epoch: 23           Costo: 0.30822116782744496\n",
      "Epoch: 24           Costo: 0.32301503175159524\n",
      "Epoch: 25           Costo: 0.2866785732043507\n",
      "Epoch: 26           Costo: 0.247749119479577\n",
      "Epoch: 27           Costo: 0.2509573134116914\n",
      "Epoch: 28           Costo: 0.3666331648425442\n",
      "Epoch: 29           Costo: 0.23356889496904681\n",
      "Se acabaron los epochs, saliendo de la sesión de tensorflow.\n"
     ]
    }
   ],
   "source": [
    "numero_epochs = 30\n",
    "tamano_minibatch = 100\n",
    "display_step = 1\n",
    "\n",
    "# Muy importante la primera vez que se ejecuta inicializar todas las variables\n",
    "init = tf.global_variables_initializer()\n",
    "\n",
    "# La manera correcta de iniciar una sesión y realizar calculos\n",
    "with tf.Session() as sess:\n",
    "    sess.run(init)\n",
    "\n",
    "    # Ciclos de entrenamiento\n",
    "    for epoch in range(numero_epochs):\n",
    "\n",
    "        #  Inicializa el costo promedio de todos los minibatches en 0\n",
    "        avg_cost = 0.\n",
    "        \n",
    "        #  Calcula el número de minibatches que se pueden usar \n",
    "        total_batch = int(mnist.train.num_examples/tamano_minibatch)\n",
    "\n",
    "        #  Por cada minibatch\n",
    "        for i in range(total_batch):\n",
    "            \n",
    "            #  Utiliza un generador incluido en mnist que obtiene \n",
    "            #  tamano_minibatch ejemplos selecionados aleatoriamente del total\n",
    "            batch_x, batch_y = mnist.train.next_batch(tamano_minibatch)\n",
    "            \n",
    "            #  Ejecuta la ops del paso_entrenamiento para aprender \n",
    "            #  y la del costo, con el fin de mostrar el aprendizaje\n",
    "            _, c = sess.run([paso_entrenamiento, costo], feed_dict={x: batch_x, y: batch_y})\n",
    "            \n",
    "            #  Calcula el costo del minibatch y lo agrega al costo total\n",
    "            avg_cost += c / total_batch\n",
    "        \n",
    "        # Muestra los resultados\n",
    "        if epoch % display_step == 0:\n",
    "            print ((\"Epoch: \" + str(epoch)).ljust(20)\n",
    "                   + (\"Costo: \" + str(avg_cost)))\n",
    "    \n",
    "    #  Guarda la sesión en el archivo rnn2.cptk\n",
    "    saver.save(sess, archivo_modelo)\n",
    "    \n",
    "    print(\"Se acabaron los epochs, saliendo de la sesión de tensorflow.\")"
   ]
  },
  {
   "cell_type": "markdown",
   "metadata": {
    "collapsed": true
   },
   "source": [
    "Ahora vamos a revisar que tan bien realizó el aprendizaje cuando se aplica la red adatos que\n",
    "no se usaron para entrenamiento. Para esto vamos a utilizar dos ops extas: una \n",
    "para definir la operaración de datos bien estimados o mal estimados, y otra para\n",
    "calcular el promedio de datos bien estimados. Para calcular los datos bien estimados vamos a utilizar `tf.cast` que permite ajustar los tipos\n",
    "al tipo tensor. \n",
    "\n",
    "Recuerda que, al haber definido `prediccion_correcta` y `precision` como ops de tensorflow *después* de la ultima vez que usaste dentro de una sesión la ops `saver`, estas operaciones no se guardaron en memoria. Si quieres conservarlas, debes de definirlas *antes* de ejecutar el aprendizaje."
   ]
  },
  {
   "cell_type": "code",
   "execution_count": 15,
   "metadata": {},
   "outputs": [],
   "source": [
    "prediction_correcta = tf.equal(tf.argmax(estimado, 1), tf.argmax(y, 1))\n",
    "\n",
    "precision = tf.reduce_mean(tf.cast(prediction_correcta, \"float\"))\n",
    "\n"
   ]
  },
  {
   "cell_type": "markdown",
   "metadata": {},
   "source": [
    "Ahora si, vamos a abrir una nueva sesión, vamos a restaurar los valores de la sesión anterior,\n",
    "y vamos a ejecutar el grafo con el fin de evaluar la ops precision, pero ahora con el\n",
    "diccionario de alimentación con los datos de prueba."
   ]
  },
  {
   "cell_type": "code",
   "execution_count": 16,
   "metadata": {},
   "outputs": [
    {
     "name": "stdout",
     "output_type": "stream",
     "text": [
      "WARNING:tensorflow:From /home/victor/anaconda3/envs/tensorflow/lib/python3.7/site-packages/tensorflow/python/training/saver.py:1266: checkpoint_exists (from tensorflow.python.training.checkpoint_management) is deprecated and will be removed in a future version.\n",
      "Instructions for updating:\n",
      "Use standard file APIs to check for files with this prefix.\n",
      "INFO:tensorflow:Restoring parameters from rnn2.ckpt\n",
      "Precisión: 0.9526000022888184\n"
     ]
    }
   ],
   "source": [
    "with tf.Session() as sess:\n",
    "    sess.run(init)\n",
    "    saver.restore(sess, archivo_modelo)\n",
    "    porcentaje_acierto = sess.run(precision, feed_dict={x: mnist.test.images,\n",
    "                                                        y: mnist.test.labels})\n",
    "    print(\"Precisión: {}\".format(porcentaje_acierto))\n"
   ]
  },
  {
   "cell_type": "markdown",
   "metadata": {},
   "source": [
    "## 4. Contesta las siguientes preguntas\n",
    "\n",
    "1. ¿Que pasa si aumenta el número de epochs? ¿Cuando deja de ser util aumentar los epoch?\n",
    "\n",
    "2. ¿Que pasa si aumentas o disminuyes la tasa de aprendizaje?\n",
    "\n",
    "3. Utiliza al menos otros 2 métodos de optimización (existentes en Tensorflow), ajústalos y compáralos. ¿Cual de los métodos te gusta más y porqué preferirías uno sobre los otros?\n",
    "\n",
    "4. ¿Que pasa si cambias el tamaño de los minibatches?\n",
    "\n",
    "5. ¿Como harías si dejaste a medias un proceso de aprendizaje (en 10 epochs por ejemplo) y quisieras entrenar la red 10 epoch más, y mañana quisieras entrenarla otros 10 epoch más?\n",
    "\n",
    "**Para contestar las preguntas, agrega cuantas celdas con comentarios y con códgo sean necesarias.** Aprovecha que las libretas de *Jupyter* te permite hacerte una especie de tutorial personalizado."
   ]
  },
  {
   "cell_type": "markdown",
   "metadata": {},
   "source": [
    "## Respuestas 1 y 5:\n",
    "En la siguiente celda respondo la pregunta 1 y la pregunta 5.\n",
    "Si aumentamos los epochs hasta cierto punto, los costos suelen ser peores que en anteriores. Yo pienso que cuando empieza a incrementar mucho de un epoch al siguiente es porque ya es innecesario. A la pregunta 5, pues simplemente restauras la sesión y a seguirle, como se ve en la siguiente celda donde le agrego 5 epochs mas."
   ]
  },
  {
   "cell_type": "code",
   "execution_count": 17,
   "metadata": {},
   "outputs": [
    {
     "name": "stdout",
     "output_type": "stream",
     "text": [
      "INFO:tensorflow:Restoring parameters from rnn2.ckpt\n",
      "Epoch: 0            Costo: 0.22585296401817503\n",
      "Epoch: 1            Costo: 0.27072849035227037\n",
      "Epoch: 2            Costo: 0.21022210037467653\n",
      "Epoch: 3            Costo: 0.3171673910534278\n",
      "Epoch: 4            Costo: 0.2602260868140038\n"
     ]
    }
   ],
   "source": [
    "with tf.Session() as sess:\n",
    "    sess.run(init)\n",
    "    saver.restore(sess, archivo_modelo)\n",
    "    for epoch in range(5):\n",
    "\n",
    "        #  Inicializa el costo promedio de todos los minibatches en 0\n",
    "        avg_cost = 0.\n",
    "        \n",
    "        #  Calcula el número de minibatches que se pueden usar \n",
    "        total_batch = int(mnist.train.num_examples/tamano_minibatch)\n",
    "\n",
    "        #  Por cada minibatch\n",
    "        for i in range(total_batch):\n",
    "            \n",
    "            #  Utiliza un generador incluido en mnist que obtiene \n",
    "            #  tamano_minibatch ejemplos selecionados aleatoriamente del total\n",
    "            batch_x, batch_y = mnist.train.next_batch(tamano_minibatch)\n",
    "            \n",
    "            #  Ejecuta la ops del paso_entrenamiento para aprender \n",
    "            #  y la del costo, con el fin de mostrar el aprendizaje\n",
    "            _, c = sess.run([paso_entrenamiento, costo], feed_dict={x: batch_x, y: batch_y})\n",
    "            \n",
    "            #  Calcula el costo del minibatch y lo agrega al costo total\n",
    "            avg_cost += c / total_batch\n",
    "        \n",
    "        # Muestra los resultados\n",
    "        if epoch % display_step == 0:\n",
    "            print ((\"Epoch: \" + str(epoch)).ljust(20)\n",
    "                   + (\"Costo: \" + str(avg_cost)))\n",
    "    \n",
    "    #  Guarda la sesión en el archivo rnn2.cptk\n",
    "    saver.save(sess, archivo_modelo)"
   ]
  },
  {
   "cell_type": "markdown",
   "metadata": {},
   "source": [
    "## Respuesta 2: cambiar la tasa de aprendizaje.\n",
    "\n",
    "En las siguientes celdas cambio $\\alpha$ de 0.001 a 0.005"
   ]
  },
  {
   "cell_type": "code",
   "execution_count": 19,
   "metadata": {},
   "outputs": [
    {
     "name": "stdout",
     "output_type": "stream",
     "text": [
      "Epoch: 0            Costo: 67.42453009822154\n",
      "Epoch: 1            Costo: 14.028810391100969\n",
      "Epoch: 2            Costo: 7.092596803226988\n",
      "Epoch: 3            Costo: 4.379405946387617\n",
      "Epoch: 4            Costo: 3.072698492023819\n",
      "Epoch: 5            Costo: 2.5449609771081194\n",
      "Epoch: 6            Costo: 2.0939389536438333\n",
      "Epoch: 7            Costo: 1.8440273851540918\n",
      "Epoch: 8            Costo: 1.6476929244149332\n",
      "Epoch: 9            Costo: 1.5661655998431794\n",
      "Epoch: 10           Costo: 1.6305917877109648\n",
      "Epoch: 11           Costo: 1.4128501150242117\n",
      "Epoch: 12           Costo: 1.4433809464402723\n",
      "Epoch: 13           Costo: 1.1167265752200881\n",
      "Epoch: 14           Costo: 1.0598739839982623\n",
      "Epoch: 15           Costo: 0.9879012744474929\n",
      "Epoch: 16           Costo: 1.0215290464677098\n",
      "Epoch: 17           Costo: 1.1047334009648508\n",
      "Epoch: 18           Costo: 1.0995454032459238\n",
      "Epoch: 19           Costo: 0.8798072780188029\n",
      "Epoch: 20           Costo: 0.7830803893467078\n",
      "Epoch: 21           Costo: 0.7217854850164385\n",
      "Epoch: 22           Costo: 0.7343650455342087\n",
      "Epoch: 23           Costo: 0.6755347443807536\n",
      "Epoch: 24           Costo: 0.7412051010818191\n",
      "Epoch: 25           Costo: 0.5920431290546445\n",
      "Epoch: 26           Costo: 0.5918334048625873\n",
      "Epoch: 27           Costo: 0.5341187528000751\n",
      "Epoch: 28           Costo: 0.6716949887159872\n",
      "Epoch: 29           Costo: 0.5734809529746718\n",
      "Se acabaron los epochs, saliendo de la sesión de tensorflow.\n"
     ]
    }
   ],
   "source": [
    "alfa = 0.005\n",
    "optimizador = tf.train.AdamOptimizer(learning_rate=alfa)\n",
    "paso_entrenamiento = optimizador.minimize(costo)\n",
    "archivo_modelo = \"rnn2_2.ckpt\"\n",
    "saver = tf.train.Saver()\n",
    "\n",
    "numero_epochs = 30\n",
    "tamano_minibatch = 100\n",
    "display_step = 1\n",
    "\n",
    "# Muy importante la primera vez que se ejecuta inicializar todas las variables\n",
    "init = tf.global_variables_initializer()\n",
    "\n",
    "# La manera correcta de iniciar una sesión y realizar calculos\n",
    "with tf.Session() as sess:\n",
    "    sess.run(init)\n",
    "\n",
    "    # Ciclos de entrenamiento\n",
    "    for epoch in range(numero_epochs):\n",
    "\n",
    "        #  Inicializa el costo promedio de todos los minibatches en 0\n",
    "        avg_cost = 0.\n",
    "        \n",
    "        #  Calcula el número de minibatches que se pueden usar \n",
    "        total_batch = int(mnist.train.num_examples/tamano_minibatch)\n",
    "\n",
    "        #  Por cada minibatch\n",
    "        for i in range(total_batch):\n",
    "            \n",
    "            #  Utiliza un generador incluido en mnist que obtiene \n",
    "            #  tamano_minibatch ejemplos selecionados aleatoriamente del total\n",
    "            batch_x, batch_y = mnist.train.next_batch(tamano_minibatch)\n",
    "            \n",
    "            #  Ejecuta la ops del paso_entrenamiento para aprender \n",
    "            #  y la del costo, con el fin de mostrar el aprendizaje\n",
    "            _, c = sess.run([paso_entrenamiento, costo], feed_dict={x: batch_x, y: batch_y})\n",
    "            \n",
    "            #  Calcula el costo del minibatch y lo agrega al costo total\n",
    "            avg_cost += c / total_batch\n",
    "        \n",
    "        # Muestra los resultados\n",
    "        if epoch % display_step == 0:\n",
    "            print ((\"Epoch: \" + str(epoch)).ljust(20)\n",
    "                   + (\"Costo: \" + str(avg_cost)))\n",
    "    \n",
    "    #  Guarda la sesión en el archivo rnn2.cptk\n",
    "    saver.save(sess, archivo_modelo)\n",
    "    \n",
    "    print(\"Se acabaron los epochs, saliendo de la sesión de tensorflow.\")"
   ]
  },
  {
   "cell_type": "code",
   "execution_count": 20,
   "metadata": {},
   "outputs": [
    {
     "name": "stdout",
     "output_type": "stream",
     "text": [
      "INFO:tensorflow:Restoring parameters from rnn2_2.ckpt\n",
      "Precisión: 0.9671000242233276\n"
     ]
    }
   ],
   "source": [
    "prediction_correcta = tf.equal(tf.argmax(estimado, 1), tf.argmax(y, 1))\n",
    "\n",
    "precision = tf.reduce_mean(tf.cast(prediction_correcta, \"float\"))\n",
    "with tf.Session() as sess:\n",
    "    sess.run(init)\n",
    "    saver.restore(sess, archivo_modelo)\n",
    "    porcentaje_acierto = sess.run(precision, feed_dict={x: mnist.test.images,\n",
    "                                                        y: mnist.test.labels})\n",
    "    print(\"Precisión: {}\".format(porcentaje_acierto))"
   ]
  },
  {
   "cell_type": "markdown",
   "metadata": {},
   "source": [
    "### ¿Qué fue lo que ocurrió?\n",
    "\n",
    "El costo de los últimos epochs es mayor, pero también la precisión es mayor que con la otra tasa.\n",
    "\n",
    "## En las siguientes celdas voy a trabajar con una alfa menor."
   ]
  },
  {
   "cell_type": "code",
   "execution_count": 21,
   "metadata": {},
   "outputs": [
    {
     "name": "stdout",
     "output_type": "stream",
     "text": [
      "Epoch: 0            Costo: 268.8982536315916\n",
      "Epoch: 1            Costo: 67.732899241014\n",
      "Epoch: 2            Costo: 44.36489459969782\n",
      "Epoch: 3            Costo: 32.928652651743434\n",
      "Epoch: 4            Costo: 25.572606104503976\n",
      "Epoch: 5            Costo: 20.52394082741304\n",
      "Epoch: 6            Costo: 16.789277559735563\n",
      "Epoch: 7            Costo: 13.65965102869678\n",
      "Epoch: 8            Costo: 11.191044363205734\n",
      "Epoch: 9            Costo: 9.180577590051897\n",
      "Epoch: 10           Costo: 7.531853813818575\n",
      "Epoch: 11           Costo: 6.094321851352283\n",
      "Epoch: 12           Costo: 5.053000407742359\n",
      "Epoch: 13           Costo: 4.099136940840116\n",
      "Epoch: 14           Costo: 3.2777030786991816\n",
      "Epoch: 15           Costo: 2.7402724098819564\n",
      "Epoch: 16           Costo: 2.177062466288401\n",
      "Epoch: 17           Costo: 1.7975061264388\n",
      "Epoch: 18           Costo: 1.4553161403464967\n",
      "Epoch: 19           Costo: 1.163153212487788\n",
      "Epoch: 20           Costo: 0.9360187679747453\n",
      "Epoch: 21           Costo: 0.7556056301544316\n",
      "Epoch: 22           Costo: 0.5649132577394007\n",
      "Epoch: 23           Costo: 0.47569219296305437\n",
      "Epoch: 24           Costo: 0.36141853718239914\n",
      "Epoch: 25           Costo: 0.30375037153936213\n",
      "Epoch: 26           Costo: 0.27408543467130914\n",
      "Epoch: 27           Costo: 0.21359939520729418\n",
      "Epoch: 28           Costo: 0.22691477805595275\n",
      "Epoch: 29           Costo: 0.19302757538416881\n",
      "Se acabaron los epochs, saliendo de la sesión de tensorflow.\n"
     ]
    }
   ],
   "source": [
    "alfa = 0.0005\n",
    "optimizador = tf.train.AdamOptimizer(learning_rate=alfa)\n",
    "paso_entrenamiento = optimizador.minimize(costo)\n",
    "archivo_modelo = \"rnn2_3.ckpt\"\n",
    "saver = tf.train.Saver()\n",
    "\n",
    "numero_epochs = 30\n",
    "tamano_minibatch = 100\n",
    "display_step = 1\n",
    "\n",
    "# Muy importante la primera vez que se ejecuta inicializar todas las variables\n",
    "init = tf.global_variables_initializer()\n",
    "\n",
    "# La manera correcta de iniciar una sesión y realizar calculos\n",
    "with tf.Session() as sess:\n",
    "    sess.run(init)\n",
    "\n",
    "    # Ciclos de entrenamiento\n",
    "    for epoch in range(numero_epochs):\n",
    "\n",
    "        #  Inicializa el costo promedio de todos los minibatches en 0\n",
    "        avg_cost = 0.\n",
    "        \n",
    "        #  Calcula el número de minibatches que se pueden usar \n",
    "        total_batch = int(mnist.train.num_examples/tamano_minibatch)\n",
    "\n",
    "        #  Por cada minibatch\n",
    "        for i in range(total_batch):\n",
    "            \n",
    "            #  Utiliza un generador incluido en mnist que obtiene \n",
    "            #  tamano_minibatch ejemplos selecionados aleatoriamente del total\n",
    "            batch_x, batch_y = mnist.train.next_batch(tamano_minibatch)\n",
    "            \n",
    "            #  Ejecuta la ops del paso_entrenamiento para aprender \n",
    "            #  y la del costo, con el fin de mostrar el aprendizaje\n",
    "            _, c = sess.run([paso_entrenamiento, costo], feed_dict={x: batch_x, y: batch_y})\n",
    "            \n",
    "            #  Calcula el costo del minibatch y lo agrega al costo total\n",
    "            avg_cost += c / total_batch\n",
    "        \n",
    "        # Muestra los resultados\n",
    "        if epoch % display_step == 0:\n",
    "            print ((\"Epoch: \" + str(epoch)).ljust(20)\n",
    "                   + (\"Costo: \" + str(avg_cost)))\n",
    "    \n",
    "    #  Guarda la sesión en el archivo rnn2.cptk\n",
    "    saver.save(sess, archivo_modelo)\n",
    "    \n",
    "    print(\"Se acabaron los epochs, saliendo de la sesión de tensorflow.\")"
   ]
  },
  {
   "cell_type": "code",
   "execution_count": 24,
   "metadata": {},
   "outputs": [
    {
     "name": "stdout",
     "output_type": "stream",
     "text": [
      "INFO:tensorflow:Restoring parameters from rnn2_3.ckpt\n",
      "Precisión: 0.9416999816894531\n"
     ]
    }
   ],
   "source": [
    "prediction_correcta = tf.equal(tf.argmax(estimado, 1), tf.argmax(y, 1))\n",
    "\n",
    "precision = tf.reduce_mean(tf.cast(prediction_correcta, \"float\"))\n",
    "with tf.Session() as sess:\n",
    "    sess.run(init)\n",
    "    saver.restore(sess, archivo_modelo)\n",
    "    porcentaje_acierto = sess.run(precision, feed_dict={x: mnist.test.images,\n",
    "                                                        y: mnist.test.labels})\n",
    "    print(\"Precisión: {}\".format(porcentaje_acierto))"
   ]
  },
  {
   "cell_type": "markdown",
   "metadata": {},
   "source": [
    "### ¿Qué ocurrió?\n",
    "\n",
    "El costo es menor que en los otros dos casos, pero la precisión es menor en estos también.\n",
    "\n",
    "# En las siguientes celdas vamos a tratar de profundizar en la tercer pregunta, con AdaGrad y AdaDelta, donde podremos ver que no son tan buenos como Adam"
   ]
  },
  {
   "cell_type": "code",
   "execution_count": 25,
   "metadata": {},
   "outputs": [
    {
     "name": "stdout",
     "output_type": "stream",
     "text": [
      "Epoch: 0            Costo: 2072.5828378018487\n",
      "Epoch: 1            Costo: 2046.871650834518\n",
      "Epoch: 2            Costo: 2020.024997114704\n",
      "Epoch: 3            Costo: 1992.78256303267\n",
      "Epoch: 4            Costo: 1965.5480217950994\n",
      "Epoch: 5            Costo: 1938.5429492187488\n",
      "Epoch: 6            Costo: 1911.9091088867183\n",
      "Epoch: 7            Costo: 1885.6192280717335\n",
      "Epoch: 8            Costo: 1859.8193386008516\n",
      "Epoch: 9            Costo: 1834.5408498313184\n",
      "Epoch: 10           Costo: 1809.6975929953833\n",
      "Epoch: 11           Costo: 1785.3171357865779\n",
      "Epoch: 12           Costo: 1761.416823286577\n",
      "Epoch: 13           Costo: 1737.9962673117896\n",
      "Epoch: 14           Costo: 1715.0270507812497\n",
      "Epoch: 15           Costo: 1692.4275310724438\n",
      "Epoch: 16           Costo: 1670.175143599077\n",
      "Epoch: 17           Costo: 1648.3671823952425\n",
      "Epoch: 18           Costo: 1627.0285211736505\n",
      "Epoch: 19           Costo: 1606.148374023437\n",
      "Epoch: 20           Costo: 1585.6470430131376\n",
      "Epoch: 21           Costo: 1565.4935056374275\n",
      "Epoch: 22           Costo: 1545.6048619495725\n",
      "Epoch: 23           Costo: 1526.012730601918\n",
      "Epoch: 24           Costo: 1506.7336747602988\n",
      "Epoch: 25           Costo: 1487.8010613458791\n",
      "Epoch: 26           Costo: 1469.1670217063213\n",
      "Epoch: 27           Costo: 1450.7859692382817\n",
      "Epoch: 28           Costo: 1432.6706070223731\n",
      "Epoch: 29           Costo: 1414.8460631214489\n",
      "Se acabaron los epochs, saliendo de la sesión de tensorflow.\n"
     ]
    }
   ],
   "source": [
    "alfa = 0.001\n",
    "optimizador = tf.train.AdadeltaOptimizer(learning_rate=alfa)\n",
    "paso_entrenamiento = optimizador.minimize(costo)\n",
    "archivo_modelo = \"rnn2_4.ckpt\"\n",
    "saver = tf.train.Saver()\n",
    "\n",
    "numero_epochs = 30\n",
    "tamano_minibatch = 100\n",
    "display_step = 1\n",
    "\n",
    "# Muy importante la primera vez que se ejecuta inicializar todas las variables\n",
    "init = tf.global_variables_initializer()\n",
    "\n",
    "# La manera correcta de iniciar una sesión y realizar calculos\n",
    "with tf.Session() as sess:\n",
    "    sess.run(init)\n",
    "\n",
    "    # Ciclos de entrenamiento\n",
    "    for epoch in range(numero_epochs):\n",
    "\n",
    "        #  Inicializa el costo promedio de todos los minibatches en 0\n",
    "        avg_cost = 0.\n",
    "        \n",
    "        #  Calcula el número de minibatches que se pueden usar \n",
    "        total_batch = int(mnist.train.num_examples/tamano_minibatch)\n",
    "\n",
    "        #  Por cada minibatch\n",
    "        for i in range(total_batch):\n",
    "            \n",
    "            #  Utiliza un generador incluido en mnist que obtiene \n",
    "            #  tamano_minibatch ejemplos selecionados aleatoriamente del total\n",
    "            batch_x, batch_y = mnist.train.next_batch(tamano_minibatch)\n",
    "            \n",
    "            #  Ejecuta la ops del paso_entrenamiento para aprender \n",
    "            #  y la del costo, con el fin de mostrar el aprendizaje\n",
    "            _, c = sess.run([paso_entrenamiento, costo], feed_dict={x: batch_x, y: batch_y})\n",
    "            \n",
    "            #  Calcula el costo del minibatch y lo agrega al costo total\n",
    "            avg_cost += c / total_batch\n",
    "        \n",
    "        # Muestra los resultados\n",
    "        if epoch % display_step == 0:\n",
    "            print ((\"Epoch: \" + str(epoch)).ljust(20)\n",
    "                   + (\"Costo: \" + str(avg_cost)))\n",
    "    \n",
    "    #  Guarda la sesión en el archivo rnn2.cptk\n",
    "    saver.save(sess, archivo_modelo)\n",
    "    \n",
    "    print(\"Se acabaron los epochs, saliendo de la sesión de tensorflow.\")"
   ]
  },
  {
   "cell_type": "code",
   "execution_count": 26,
   "metadata": {},
   "outputs": [
    {
     "name": "stdout",
     "output_type": "stream",
     "text": [
      "INFO:tensorflow:Restoring parameters from rnn2_4.ckpt\n",
      "Precisión: 0.10450000315904617\n"
     ]
    }
   ],
   "source": [
    "prediction_correcta = tf.equal(tf.argmax(estimado, 1), tf.argmax(y, 1))\n",
    "\n",
    "precision = tf.reduce_mean(tf.cast(prediction_correcta, \"float\"))\n",
    "with tf.Session() as sess:\n",
    "    sess.run(init)\n",
    "    saver.restore(sess, archivo_modelo)\n",
    "    porcentaje_acierto = sess.run(precision, feed_dict={x: mnist.test.images,\n",
    "                                                        y: mnist.test.labels})\n",
    "    print(\"Precisión: {}\".format(porcentaje_acierto))"
   ]
  },
  {
   "cell_type": "code",
   "execution_count": 28,
   "metadata": {},
   "outputs": [
    {
     "name": "stdout",
     "output_type": "stream",
     "text": [
      "Epoch: 0            Costo: 543.5082359730118\n",
      "Epoch: 1            Costo: 302.8070646528764\n",
      "Epoch: 2            Costo: 238.24787083018933\n",
      "Epoch: 3            Costo: 204.21240298184475\n",
      "Epoch: 4            Costo: 182.30707300359563\n",
      "Epoch: 5            Costo: 166.7696078352493\n",
      "Epoch: 6            Costo: 154.92452954378993\n",
      "Epoch: 7            Costo: 145.53912606672824\n",
      "Epoch: 8            Costo: 137.86781581531866\n",
      "Epoch: 9            Costo: 131.41601968245047\n",
      "Epoch: 10           Costo: 125.91215150312941\n",
      "Epoch: 11           Costo: 121.10685810089102\n",
      "Epoch: 12           Costo: 116.86915109807796\n",
      "Epoch: 13           Costo: 113.11860066500574\n",
      "Epoch: 14           Costo: 109.77313910050823\n",
      "Epoch: 15           Costo: 106.73151474692614\n",
      "Epoch: 16           Costo: 103.9614776125821\n",
      "Epoch: 17           Costo: 101.42782879916095\n",
      "Epoch: 18           Costo: 99.10496138832782\n",
      "Epoch: 19           Costo: 96.95376964222292\n",
      "Epoch: 20           Costo: 94.95854930530886\n",
      "Epoch: 21           Costo: 93.09986308011149\n",
      "Epoch: 22           Costo: 91.3640541146019\n",
      "Epoch: 23           Costo: 89.73527350339027\n",
      "Epoch: 24           Costo: 88.2032960475575\n",
      "Epoch: 25           Costo: 86.7589733574607\n",
      "Epoch: 26           Costo: 85.39081435463649\n",
      "Epoch: 27           Costo: 84.09964633941654\n",
      "Epoch: 28           Costo: 82.86669154427267\n",
      "Epoch: 29           Costo: 81.69738561456843\n",
      "Se acabaron los epochs, saliendo de la sesión de tensorflow.\n"
     ]
    }
   ],
   "source": [
    "alfa = 0.001\n",
    "optimizador = tf.train.AdagradOptimizer(learning_rate=alfa)\n",
    "paso_entrenamiento = optimizador.minimize(costo)\n",
    "archivo_modelo = \"rnn2_5.ckpt\"\n",
    "saver = tf.train.Saver()\n",
    "\n",
    "numero_epochs = 30\n",
    "tamano_minibatch = 100\n",
    "display_step = 1\n",
    "\n",
    "# Muy importante la primera vez que se ejecuta inicializar todas las variables\n",
    "init = tf.global_variables_initializer()\n",
    "\n",
    "# La manera correcta de iniciar una sesión y realizar calculos\n",
    "with tf.Session() as sess:\n",
    "    sess.run(init)\n",
    "\n",
    "    # Ciclos de entrenamiento\n",
    "    for epoch in range(numero_epochs):\n",
    "\n",
    "        #  Inicializa el costo promedio de todos los minibatches en 0\n",
    "        avg_cost = 0.\n",
    "        \n",
    "        #  Calcula el número de minibatches que se pueden usar \n",
    "        total_batch = int(mnist.train.num_examples/tamano_minibatch)\n",
    "\n",
    "        #  Por cada minibatch\n",
    "        for i in range(total_batch):\n",
    "            \n",
    "            #  Utiliza un generador incluido en mnist que obtiene \n",
    "            #  tamano_minibatch ejemplos selecionados aleatoriamente del total\n",
    "            batch_x, batch_y = mnist.train.next_batch(tamano_minibatch)\n",
    "            \n",
    "            #  Ejecuta la ops del paso_entrenamiento para aprender \n",
    "            #  y la del costo, con el fin de mostrar el aprendizaje\n",
    "            _, c = sess.run([paso_entrenamiento, costo], feed_dict={x: batch_x, y: batch_y})\n",
    "            \n",
    "            #  Calcula el costo del minibatch y lo agrega al costo total\n",
    "            avg_cost += c / total_batch\n",
    "        \n",
    "        # Muestra los resultados\n",
    "        if epoch % display_step == 0:\n",
    "            print ((\"Epoch: \" + str(epoch)).ljust(20)\n",
    "                   + (\"Costo: \" + str(avg_cost)))\n",
    "    \n",
    "    #  Guarda la sesión en el archivo rnn2.cptk\n",
    "    saver.save(sess, archivo_modelo)\n",
    "    \n",
    "    print(\"Se acabaron los epochs, saliendo de la sesión de tensorflow.\")"
   ]
  },
  {
   "cell_type": "code",
   "execution_count": 29,
   "metadata": {},
   "outputs": [
    {
     "name": "stdout",
     "output_type": "stream",
     "text": [
      "INFO:tensorflow:Restoring parameters from rnn2_5.ckpt\n",
      "Precisión: 0.8109999895095825\n"
     ]
    }
   ],
   "source": [
    "prediction_correcta = tf.equal(tf.argmax(estimado, 1), tf.argmax(y, 1))\n",
    "\n",
    "precision = tf.reduce_mean(tf.cast(prediction_correcta, \"float\"))\n",
    "with tf.Session() as sess:\n",
    "    sess.run(init)\n",
    "    saver.restore(sess, archivo_modelo)\n",
    "    porcentaje_acierto = sess.run(precision, feed_dict={x: mnist.test.images,\n",
    "                                                        y: mnist.test.labels})\n",
    "    print(\"Precisión: {}\".format(porcentaje_acierto))"
   ]
  },
  {
   "cell_type": "markdown",
   "metadata": {},
   "source": [
    "## Por último, la pregunta 4:"
   ]
  },
  {
   "cell_type": "code",
   "execution_count": 30,
   "metadata": {},
   "outputs": [
    {
     "name": "stdout",
     "output_type": "stream",
     "text": [
      "Epoch: 0            Costo: 238.85401790272138\n",
      "Epoch: 1            Costo: 56.021324837424494\n",
      "Epoch: 2            Costo: 36.61117274197667\n",
      "Epoch: 3            Costo: 26.93925780729814\n",
      "Epoch: 4            Costo: 20.725648827986273\n",
      "Epoch: 5            Costo: 16.496593103408802\n",
      "Epoch: 6            Costo: 13.193000920469105\n",
      "Epoch: 7            Costo: 10.628852546865287\n",
      "Epoch: 8            Costo: 8.64317891427061\n",
      "Epoch: 9            Costo: 6.979011908802084\n",
      "Epoch: 10           Costo: 5.628013364184987\n",
      "Epoch: 11           Costo: 4.512750429131769\n",
      "Epoch: 12           Costo: 3.6435479563174615\n",
      "Epoch: 13           Costo: 2.878919887298889\n",
      "Epoch: 14           Costo: 2.2625978013206622\n",
      "Epoch: 15           Costo: 1.885035001711497\n",
      "Epoch: 16           Costo: 1.4578745947457845\n",
      "Epoch: 17           Costo: 1.171947878360165\n",
      "Epoch: 18           Costo: 0.9433802358450388\n",
      "Epoch: 19           Costo: 0.7571304102939177\n",
      "Epoch: 20           Costo: 0.5801896355787027\n",
      "Epoch: 21           Costo: 0.47798945742181037\n",
      "Epoch: 22           Costo: 0.34478600071541415\n",
      "Epoch: 23           Costo: 0.3748885104883623\n",
      "Epoch: 24           Costo: 0.37834488827223095\n",
      "Epoch: 25           Costo: 0.2693167881928135\n",
      "Epoch: 26           Costo: 0.2205873540101057\n",
      "Epoch: 27           Costo: 0.2864688073241881\n",
      "Epoch: 28           Costo: 0.2672346088289913\n",
      "Epoch: 29           Costo: 0.20001791810854572\n",
      "Se acabaron los epochs, saliendo de la sesión de tensorflow.\n"
     ]
    }
   ],
   "source": [
    "alfa = 0.001\n",
    "optimizador = tf.train.AdamOptimizer(learning_rate=alfa)\n",
    "paso_entrenamiento = optimizador.minimize(costo)\n",
    "archivo_modelo = \"rnn2_6.ckpt\"\n",
    "saver = tf.train.Saver()\n",
    "\n",
    "numero_epochs = 30\n",
    "tamano_minibatch = 200\n",
    "display_step = 1\n",
    "\n",
    "# Muy importante la primera vez que se ejecuta inicializar todas las variables\n",
    "init = tf.global_variables_initializer()\n",
    "\n",
    "# La manera correcta de iniciar una sesión y realizar calculos\n",
    "with tf.Session() as sess:\n",
    "    sess.run(init)\n",
    "\n",
    "    # Ciclos de entrenamiento\n",
    "    for epoch in range(numero_epochs):\n",
    "\n",
    "        #  Inicializa el costo promedio de todos los minibatches en 0\n",
    "        avg_cost = 0.\n",
    "        \n",
    "        #  Calcula el número de minibatches que se pueden usar \n",
    "        total_batch = int(mnist.train.num_examples/tamano_minibatch)\n",
    "\n",
    "        #  Por cada minibatch\n",
    "        for i in range(total_batch):\n",
    "            \n",
    "            #  Utiliza un generador incluido en mnist que obtiene \n",
    "            #  tamano_minibatch ejemplos selecionados aleatoriamente del total\n",
    "            batch_x, batch_y = mnist.train.next_batch(tamano_minibatch)\n",
    "            \n",
    "            #  Ejecuta la ops del paso_entrenamiento para aprender \n",
    "            #  y la del costo, con el fin de mostrar el aprendizaje\n",
    "            _, c = sess.run([paso_entrenamiento, costo], feed_dict={x: batch_x, y: batch_y})\n",
    "            \n",
    "            #  Calcula el costo del minibatch y lo agrega al costo total\n",
    "            avg_cost += c / total_batch\n",
    "        \n",
    "        # Muestra los resultados\n",
    "        if epoch % display_step == 0:\n",
    "            print ((\"Epoch: \" + str(epoch)).ljust(20)\n",
    "                   + (\"Costo: \" + str(avg_cost)))\n",
    "    \n",
    "    #  Guarda la sesión en el archivo rnn2.cptk\n",
    "    saver.save(sess, archivo_modelo)\n",
    "    \n",
    "    print(\"Se acabaron los epochs, saliendo de la sesión de tensorflow.\")"
   ]
  },
  {
   "cell_type": "code",
   "execution_count": 31,
   "metadata": {},
   "outputs": [
    {
     "name": "stdout",
     "output_type": "stream",
     "text": [
      "INFO:tensorflow:Restoring parameters from rnn2_6.ckpt\n",
      "Precisión: 0.9473999738693237\n"
     ]
    }
   ],
   "source": [
    "prediction_correcta = tf.equal(tf.argmax(estimado, 1), tf.argmax(y, 1))\n",
    "\n",
    "precision = tf.reduce_mean(tf.cast(prediction_correcta, \"float\"))\n",
    "with tf.Session() as sess:\n",
    "    sess.run(init)\n",
    "    saver.restore(sess, archivo_modelo)\n",
    "    porcentaje_acierto = sess.run(precision, feed_dict={x: mnist.test.images,\n",
    "                                                        y: mnist.test.labels})\n",
    "    print(\"Precisión: {}\".format(porcentaje_acierto))"
   ]
  },
  {
   "cell_type": "code",
   "execution_count": 32,
   "metadata": {},
   "outputs": [
    {
     "name": "stdout",
     "output_type": "stream",
     "text": [
      "Epoch: 0            Costo: 120.67941065268082\n",
      "Epoch: 1            Costo: 27.64880454273529\n",
      "Epoch: 2            Costo: 16.102737513962797\n",
      "Epoch: 3            Costo: 10.42797812332574\n",
      "Epoch: 4            Costo: 7.062980440349369\n",
      "Epoch: 5            Costo: 4.773725820456125\n",
      "Epoch: 6            Costo: 3.307046400818095\n",
      "Epoch: 7            Costo: 2.3223761611578118\n",
      "Epoch: 8            Costo: 1.8195204557146345\n",
      "Epoch: 9            Costo: 1.3712785482127825\n",
      "Epoch: 10           Costo: 1.0636963049033246\n",
      "Epoch: 11           Costo: 0.8807433100314411\n",
      "Epoch: 12           Costo: 0.771544613740846\n",
      "Epoch: 13           Costo: 0.6757472381915435\n",
      "Epoch: 14           Costo: 0.5726160679080549\n",
      "Epoch: 15           Costo: 0.5383736161149612\n",
      "Epoch: 16           Costo: 0.4340911798406418\n",
      "Epoch: 17           Costo: 0.4656381717967164\n",
      "Epoch: 18           Costo: 0.3820271855458882\n",
      "Epoch: 19           Costo: 0.4523016800839315\n",
      "Epoch: 20           Costo: 0.4112177723228154\n",
      "Epoch: 21           Costo: 0.34313236785923945\n",
      "Epoch: 22           Costo: 0.4100864707553752\n",
      "Epoch: 23           Costo: 0.3560321499663811\n",
      "Epoch: 24           Costo: 0.3089431575964319\n",
      "Epoch: 25           Costo: 0.27886862913885896\n",
      "Epoch: 26           Costo: 0.27205298534851907\n",
      "Epoch: 27           Costo: 0.3421630236929196\n",
      "Epoch: 28           Costo: 0.2980322723706862\n",
      "Epoch: 29           Costo: 0.27201305796918235\n",
      "Se acabaron los epochs, saliendo de la sesión de tensorflow.\n"
     ]
    }
   ],
   "source": [
    "alfa = 0.001\n",
    "optimizador = tf.train.AdamOptimizer(learning_rate=alfa)\n",
    "paso_entrenamiento = optimizador.minimize(costo)\n",
    "archivo_modelo = \"rnn2_7.ckpt\"\n",
    "saver = tf.train.Saver()\n",
    "\n",
    "numero_epochs = 30\n",
    "tamano_minibatch = 50\n",
    "display_step = 1\n",
    "\n",
    "# Muy importante la primera vez que se ejecuta inicializar todas las variables\n",
    "init = tf.global_variables_initializer()\n",
    "\n",
    "# La manera correcta de iniciar una sesión y realizar calculos\n",
    "with tf.Session() as sess:\n",
    "    sess.run(init)\n",
    "\n",
    "    # Ciclos de entrenamiento\n",
    "    for epoch in range(numero_epochs):\n",
    "\n",
    "        #  Inicializa el costo promedio de todos los minibatches en 0\n",
    "        avg_cost = 0.\n",
    "        \n",
    "        #  Calcula el número de minibatches que se pueden usar \n",
    "        total_batch = int(mnist.train.num_examples/tamano_minibatch)\n",
    "\n",
    "        #  Por cada minibatch\n",
    "        for i in range(total_batch):\n",
    "            \n",
    "            #  Utiliza un generador incluido en mnist que obtiene \n",
    "            #  tamano_minibatch ejemplos selecionados aleatoriamente del total\n",
    "            batch_x, batch_y = mnist.train.next_batch(tamano_minibatch)\n",
    "            \n",
    "            #  Ejecuta la ops del paso_entrenamiento para aprender \n",
    "            #  y la del costo, con el fin de mostrar el aprendizaje\n",
    "            _, c = sess.run([paso_entrenamiento, costo], feed_dict={x: batch_x, y: batch_y})\n",
    "            \n",
    "            #  Calcula el costo del minibatch y lo agrega al costo total\n",
    "            avg_cost += c / total_batch\n",
    "        \n",
    "        # Muestra los resultados\n",
    "        if epoch % display_step == 0:\n",
    "            print ((\"Epoch: \" + str(epoch)).ljust(20)\n",
    "                   + (\"Costo: \" + str(avg_cost)))\n",
    "    \n",
    "    #  Guarda la sesión en el archivo rnn2.cptk\n",
    "    saver.save(sess, archivo_modelo)\n",
    "    \n",
    "    print(\"Se acabaron los epochs, saliendo de la sesión de tensorflow.\")"
   ]
  },
  {
   "cell_type": "code",
   "execution_count": 33,
   "metadata": {},
   "outputs": [
    {
     "name": "stdout",
     "output_type": "stream",
     "text": [
      "INFO:tensorflow:Restoring parameters from rnn2_7.ckpt\n",
      "Precisión: 0.9628000259399414\n"
     ]
    }
   ],
   "source": [
    "prediction_correcta = tf.equal(tf.argmax(estimado, 1), tf.argmax(y, 1))\n",
    "\n",
    "precision = tf.reduce_mean(tf.cast(prediction_correcta, \"float\"))\n",
    "with tf.Session() as sess:\n",
    "    sess.run(init)\n",
    "    saver.restore(sess, archivo_modelo)\n",
    "    porcentaje_acierto = sess.run(precision, feed_dict={x: mnist.test.images,\n",
    "                                                        y: mnist.test.labels})\n",
    "    print(\"Precisión: {}\".format(porcentaje_acierto))"
   ]
  },
  {
   "cell_type": "markdown",
   "metadata": {},
   "source": [
    "# Como se pudo ver...\n",
    "\n",
    "el incrementar el doble del tamaño en los minibatches dio lugar a una menor precisión, mientras que al dividirla a la mitad dio una mejor precisión con el mismo optimizador, función de costo y $\\alpha$"
   ]
  },
  {
   "cell_type": "code",
   "execution_count": null,
   "metadata": {},
   "outputs": [],
   "source": []
  }
 ],
 "metadata": {
  "kernelspec": {
   "display_name": "Python 3",
   "language": "python",
   "name": "python3"
  },
  "language_info": {
   "codemirror_mode": {
    "name": "ipython",
    "version": 3
   },
   "file_extension": ".py",
   "mimetype": "text/x-python",
   "name": "python",
   "nbconvert_exporter": "python",
   "pygments_lexer": "ipython3",
   "version": "3.7.3"
  }
 },
 "nbformat": 4,
 "nbformat_minor": 1
}
